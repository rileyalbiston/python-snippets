{
 "cells": [
  {
   "cell_type": "markdown",
   "metadata": {},
   "source": [
    "# Python Web Scraping with BeautifulSoup\n",
    "\n",
    "### import modules"
   ]
  },
  {
   "cell_type": "code",
   "execution_count": 19,
   "metadata": {
    "collapsed": true
   },
   "outputs": [],
   "source": [
    "import bs4 as bs\n",
    "import urllib.request"
   ]
  },
  {
   "cell_type": "markdown",
   "metadata": {},
   "source": [
    "### open the url and turn it into soup!"
   ]
  },
  {
   "cell_type": "code",
   "execution_count": 20,
   "metadata": {
    "collapsed": true
   },
   "outputs": [],
   "source": [
    "url = urllib.request.urlopen\\\n",
    "    ('http://www.imdb.com/search/title?sort=num_votes,desc&start=1&title_type=feature&year=1950,2012').read()\n",
    "soup = bs.BeautifulSoup(url, 'lxml')"
   ]
  },
  {
   "cell_type": "code",
   "execution_count": 21,
   "metadata": {
    "collapsed": false
   },
   "outputs": [
    {
     "name": "stdout",
     "output_type": "stream",
     "text": [
      "The Shawshank Redemption ['Crime,', 'Drama'] 142 min 9.3\n",
      "The Dark Knight ['Action,', 'Crime,', 'Drama'] 152 min 9.0\n",
      "Inception ['Action,', 'Adventure,', 'Sci-Fi'] 148 min 8.8\n",
      "Fight Club ['Drama'] 139 min 8.8\n",
      "Pulp Fiction ['Crime,', 'Drama'] 154 min 8.9\n",
      "Forrest Gump ['Comedy,', 'Drama,', 'Romance'] 142 min 8.8\n",
      "The Lord of the Rings: The Fellowship of the Ring ['Adventure,', 'Drama,', 'Fantasy'] 178 min 8.8\n",
      "The Matrix ['Action,', 'Sci-Fi'] 136 min 8.7\n",
      "The Lord of the Rings: The Return of the King ['Adventure,', 'Drama,', 'Fantasy'] 201 min 8.9\n",
      "The Godfather ['Crime,', 'Drama'] 175 min 9.2\n",
      "The Dark Knight Rises ['Action,', 'Thriller'] 164 min 8.5\n",
      "The Lord of the Rings: The Two Towers ['Adventure,', 'Drama,', 'Fantasy'] 179 min 8.7\n",
      "Se7en ['Crime,', 'Drama,', 'Mystery'] 127 min 8.6\n",
      "Gladiator ['Action,', 'Adventure,', 'Drama'] 155 min 8.5\n",
      "Batman Begins ['Action,', 'Adventure'] 140 min 8.3\n",
      "The Avengers ['Action,', 'Sci-Fi'] 143 min 8.1\n",
      "Django Unchained ['Drama,', 'Western'] 165 min 8.4\n",
      "Star Wars ['Action,', 'Adventure,', 'Fantasy'] 121 min 8.7\n",
      "The Silence of the Lambs ['Crime,', 'Drama,', 'Thriller'] 118 min 8.6\n",
      "Inglourious Basterds ['Adventure,', 'Drama,', 'War'] 153 min 8.3\n",
      "Saving Private Ryan ['Drama,', 'War'] 169 min 8.6\n",
      "The Departed ['Crime,', 'Drama,', 'Thriller'] 151 min 8.5\n",
      "Avatar ['Action,', 'Adventure,', 'Fantasy'] 162 min 7.8\n",
      "Schindler's List ['Biography,', 'Drama,', 'History'] 195 min 8.9\n",
      "The Prestige ['Drama,', 'Mystery,', 'Sci-Fi'] 130 min 8.5\n",
      "Star Wars: Episode V - The Empire Strikes Back ['Action,', 'Adventure,', 'Fantasy'] 124 min 8.8\n",
      "Memento ['Mystery,', 'Thriller'] 113 min 8.5\n",
      "American Beauty ['Drama,', 'Romance'] 122 min 8.4\n",
      "Pirates of the Caribbean: The Curse of the Black Pearl ['Action,', 'Adventure,', 'Fantasy'] 143 min 8.0\n",
      "Shutter Island ['Mystery,', 'Thriller'] 138 min 8.1\n",
      "The Green Mile ['Crime,', 'Drama,', 'Fantasy'] 189 min 8.5\n",
      "The Godfather: Part II ['Crime,', 'Drama'] 202 min 9.0\n",
      "V for Vendetta ['Action,', 'Drama,', 'Thriller'] 132 min 8.2\n",
      "Titanic ['Drama,', 'Romance'] 194 min 7.7\n",
      "American History X ['Crime,', 'Drama'] 119 min 8.5\n",
      "The Usual Suspects ['Crime,', 'Drama,', 'Mystery'] 106 min 8.6\n",
      "Terminator 2: Judgment Day ['Action,', 'Sci-Fi,', 'Thriller'] 137 min 8.5\n",
      "Back to the Future ['Adventure,', 'Comedy,', 'Sci-Fi'] 116 min 8.5\n",
      "Braveheart ['Biography,', 'Drama,', 'History'] 178 min 8.4\n",
      "Kill Bill: Vol. 1 ['Action,', 'Crime,', 'Thriller'] 111 min 8.1\n",
      "Léon: The Professional ['Crime,', 'Drama,', 'Thriller'] 110 min 8.6\n",
      "Goodfellas ['Crime,', 'Drama'] 146 min 8.7\n",
      "WALL·E ['Animation,', 'Adventure,', 'Family'] 98 min 8.4\n",
      "Finding Nemo ['Animation,', 'Adventure,', 'Comedy'] 100 min 8.1\n",
      "The Sixth Sense ['Drama,', 'Mystery,', 'Thriller'] 107 min 8.1\n",
      "Star Wars: Episode VI - Return of the Jedi ['Action,', 'Adventure,', 'Fantasy'] 131 min 8.4\n",
      "Iron Man ['Action,', 'Adventure,', 'Sci-Fi'] 126 min 7.9\n",
      "The Hunger Games ['Adventure,', 'Sci-Fi,', 'Thriller'] 142 min 7.2\n",
      "One Flew Over the Cuckoo's Nest ['Drama'] 133 min 8.7\n",
      "Up ['Animation,', 'Adventure,', 'Comedy'] 96 min 8.3\n"
     ]
    }
   ],
   "source": [
    "for div in soup.find_all('div', class_='lister-item-content'):\n",
    "    title = div.find('a').contents[0]\n",
    "    genres = div.find('span', class_='genre')\n",
    "    genres = genres.text.split()\n",
    "    runtime = div.find('span', class_='runtime').contents[0]\n",
    "    rating = div.find('strong').contents[0]\n",
    "    print(title, genres, runtime, rating, )"
   ]
  }
 ],
 "metadata": {
  "kernelspec": {
   "display_name": "Python 3",
   "language": "python",
   "name": "python3"
  },
  "language_info": {
   "codemirror_mode": {
    "name": "ipython",
    "version": 3
   },
   "file_extension": ".py",
   "mimetype": "text/x-python",
   "name": "python",
   "nbconvert_exporter": "python",
   "pygments_lexer": "ipython3",
   "version": "3.6.0"
  }
 },
 "nbformat": 4,
 "nbformat_minor": 2
}
